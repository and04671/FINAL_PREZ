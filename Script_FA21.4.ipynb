{
 "cells": [
  {
   "cell_type": "markdown",
   "metadata": {},
   "source": [
    "\n",
    "# Finding the Lowest Energy Pathway for User-Selected Locations and Mobility Parameters\n",
    "\n",
    "    Independent Research 8990\n",
    "    Cole Anderson\n",
    "    12/22/2021"
   ]
  },
  {
   "cell_type": "markdown",
   "metadata": {},
   "source": [
    "## Import needed modules (run EVERY time first)\n",
    "Module setup and variable definition"
   ]
  },
  {
   "cell_type": "code",
   "execution_count": null,
   "metadata": {},
   "outputs": [],
   "source": [
    "import requests #used in ETL\n",
    "import zipfile #used to unzip ETL files\n",
    "import arcpy # used for central functions\n",
    "import geopy #used for Nomatim locator attempt\n",
    "import json # used in ETL\n",
    "from geopy.geocoders import Nominatim\n",
    "import utm #used in locator portion\n",
    "import arcpy.nax #used in router\n",
    "import arcpy.na #\"\"\n",
    "from arcpy import env\n",
    "\n",
    "#script folder location\n",
    "baseURL = r'C:\\\\Users\\Cole\\Documents\\GitHub\\EnergyMobile\\Code'\n",
    "\n",
    "#GDB location\n",
    "createGDB = r'C:\\\\Users\\Cole\\Documents\\GitHub\\EnergyMobile\\Code\\Prototype2.gdb'\n",
    "\n",
    "#Network Feature Dataset Location\n",
    "createNW = r'C:\\\\Users\\Cole\\Documents\\GitHub\\EnergyMobile\\Code\\Prototype2.gdb\\Network'\n",
    "\n",
    "#Network layer location\n",
    "buildNW = r'C:\\\\Users\\Cole\\Documents\\GitHub\\EnergyMobile\\Code\\Prototype2.gdb\\Network\\AllFinal'\n",
    "\n",
    "#road lines shapefile\n",
    "RCLshp = r'C:\\\\Users\\Cole\\Documents\\GitHub\\EnergyMobile\\Code\\RoadCenterline.shp'\n",
    "\n",
    "#road lines layer \n",
    "RCL = r'C:\\\\Users\\Cole\\Documents\\GitHub\\EnergyMobile\\Code\\Prototype2.gdb\\Network\\RoadCenterline'\n",
    "\n",
    "#road buffer layer\n",
    "Buffer = r'C:\\\\Users\\Cole\\Documents\\GitHub\\EnergyMobile\\Code\\Prototype2.gdb\\Network\\Road_Buffer'"
   ]
  },
  {
   "cell_type": "markdown",
   "metadata": {},
   "source": [
    "## Retrieve data from MN Geospatial Commons and FTP Server\n",
    "This gathers the roads file and the DEM file and unzips them"
   ]
  },
  {
   "cell_type": "code",
   "execution_count": null,
   "metadata": {},
   "outputs": [],
   "source": [
    "# a function to search MN_Geospatial Commons for specific datasets\n",
    "def downloader (search_query, result_num, resource_num):\n",
    "    ##############################\n",
    "    # the URL is the MN Geospatial Commons API location + search terms you want\n",
    "    big_url = 'https://gisdata.mn.gov/api/3/action/package_search?q=' + search_query\n",
    "    \n",
    "    # Sends a request to the API for the set big_url\n",
    "    # API returns response object\n",
    "    response = requests.get(big_url, verify = False)\n",
    "    \n",
    "    # API response object need to be loaded as a JSON\n",
    "    json_response = json.loads(response.content)\n",
    "    \n",
    "    # this enters the first layer of the JSON to a list of results\n",
    "    result_options = json_response['result']['results']\n",
    "    \n",
    "    #select the result from the JSON \n",
    "    chosen_result = result_options[result_num]\n",
    "    \n",
    "    # enter second layer to resources and select resource number\n",
    "    resources_under_result= chosen_result['resources'][resource_num]\n",
    "    \n",
    "    # find the URL for that selected resource for retreival\n",
    "    chosen_resource = resources_under_result['url']\n",
    "    print(chosen_resource)\n",
    "\n",
    "    # send a request to the resource URL and get response object\n",
    "    URL_request = requests.get(chosen_resource)\n",
    "    \n",
    "    #save this response object to a zipfile (because response is a ZIP)\n",
    "    with open('filename.zip', 'wb') as f:\n",
    "        f.write(URL_request.content)  \n",
    "        f.close()\n",
    "        \n",
    "    # extract the zipfile contents to central folder (Code)    \n",
    "    with zipfile.ZipFile(\"filename.zip\",\"r\") as zip_ref:\n",
    "        zip_ref.extractall(baseURL)\n",
    "    \n",
    "    # confirms completion\n",
    "    print('Download and extraction complete. Check notebook folder')\n",
    "##############################################\n",
    "\n",
    "#execute function for DEM and RoadCenterline datasets\n",
    "downloader('us-mn-state-metrogis-trans-road-centerlines-gac',8,2)\n",
    "downloader('dataset/elev-dtm-30m-condpr-a',1,1)"
   ]
  },
  {
   "cell_type": "markdown",
   "metadata": {},
   "source": [
    "## LAZ Data\n",
    "This downloads each need LAZ (zipped LAS) files, but they must be unzipped using LASTools in the command line."
   ]
  },
  {
   "cell_type": "code",
   "execution_count": null,
   "metadata": {},
   "outputs": [],
   "source": [
    "#to collect LAZ files for DEM integration\n",
    "#same general process as first download ETL, except the links are directly recovered and content saved\n",
    "#ie, no \"retreive,get,use new address, get\" like CKAN\n",
    "import requests\n",
    "def retrieve (link, save):\n",
    "    response = requests.get(link)\n",
    "    with open(save, 'wb') as f:\n",
    "     f.write(response.content)\n",
    "     f.close()\n",
    "        \n",
    "# numbers indicate tile and date. letters are subtiles denoting location.       \n",
    "for each in [\"4342-01-25_c_a\",\"4342-01-25_c_b\",\n",
    "            \"4342-01-25_c_c\",\"4342-01-25_c_d\",\n",
    "            \"4342-01-25_d_a\",\"4342-01-25_d_b\",\n",
    "            \"4342-01-25_d_c\",\"4342-01-25_d_d\",\n",
    "            \"4342-02-25_a_a\",\"4342-02-25_a_b\",\n",
    "            \"4342-02-25_b_a\",\"4342-02-25_b_b\"]:\n",
    "        link = \"https://resources.gisdata.mn.gov/pub/data/elevation/lidar/county/hennepin/laz//\"+ each + \".laz\"\n",
    "        print(link)\n",
    "        save = 'LAZ_data2//'+ each +'.laz'\n",
    "        retrieve (link, save)\n",
    "\n",
    "# Must unzip using command line laszip.exe - found as part of LASTools download\n"
   ]
  },
  {
   "cell_type": "markdown",
   "metadata": {},
   "source": [
    "## Create a new GDB and feature dataset to work in\n",
    "Creates a blank geodatabase and places a feature dataset with UTM15 spatial reference inside of it."
   ]
  },
  {
   "cell_type": "code",
   "execution_count": null,
   "metadata": {},
   "outputs": [],
   "source": [
    "# Find the spatial reference from RoadCenterline dataset (UTM 15T)\n",
    "spatial_ref = arcpy.Describe(RCLshp).spatialReference\n",
    "\n",
    "arcpy.CreateFileGDB_management(baseURL, 'Prototype2')\n",
    "\n",
    "# create a new feature dataset inside the project GDB using spatial reference from above\n",
    "arcpy.CreateFeatureDataset_management(createGDB, 'Network', spatial_ref)"
   ]
  },
  {
   "cell_type": "markdown",
   "metadata": {},
   "source": [
    "## Clip roads to study area and buffer bridge roads, import to dataset\n",
    "This clips the roads to the study geometry, then selected bridge areas out, which are buffered."
   ]
  },
  {
   "cell_type": "code",
   "execution_count": null,
   "metadata": {},
   "outputs": [],
   "source": [
    "#roads clipped to UMN study area\n",
    "arcpy.env.workspace = baseURL\n",
    "arcpy.Clip_analysis('RoadCenterline.shp', createNW + '//Study_Geom_1', createNW +'//RoadClip')\n",
    "\n",
    "#only bridges in UMN study area\n",
    "arcpy.Clip_analysis('RoadCenterline.shp', createNW + '//Bridge_Geom_1', createNW +'//Bridges')\n",
    "\n",
    "#buffered, only bridges in UMN study area\n",
    "arcpy.Buffer_analysis(createNW + '//Bridges', createNW + '//BridgeBuffer', '50 meters', 'FULL', 'ROUND', \"ALL\")"
   ]
  },
  {
   "cell_type": "markdown",
   "metadata": {},
   "source": [
    "## Convert LAS  to LAS Dataset, import to dataset (or gdb)\n",
    "This converts LAS files into a LAS dataset, and then to a raster, which is saved to the geodatabase."
   ]
  },
  {
   "cell_type": "code",
   "execution_count": null,
   "metadata": {},
   "outputs": [],
   "source": [
    "arcpy.env.workspace = baseURL\n",
    "arcpy.conversion.ConvertLas('LAZ_data2', 'LAZ_data2')#, 'SAME_AS_INPUT', '0', 'NO_COMPRESSION',\"\" , 'spatial_ref')#, {in_coordinate_system})\n",
    "\n",
    "#LAS > Dataset\n",
    "arcpy.management.CreateLasDataset('LAZ_data2', 'LASDataset')#, 'NO_RECURSION', '', spatial_ref)#, {compute_stats}, {relative_paths}, create_las_prj)\n",
    "\n",
    "#turn into raster\n",
    "arcpy.conversion.LasDatasetToRaster('LASDataset.lasd','LASRaster', 'ELEVATION')#, {interpolation_type}, {data_type}, {sampling_type}, {sampling_value}, {z_factor})\n",
    "sr = arcpy.SpatialReference(\"NAD 1983 UTM Zone 15N\")\n",
    "arcpy.DefineProjection_management('LASRaster',sr)\n",
    "\n",
    "arcpy.CopyRaster_management('LASRaster', createGDB + '\\\\AllLAS') "
   ]
  },
  {
   "cell_type": "code",
   "execution_count": null,
   "metadata": {},
   "outputs": [],
   "source": [
    "#Raster is clipped by Road_Buffer\n",
    "from arcpy.sa import*\n",
    "x = ExtractByMask(r'C:\\\\Users\\Cole\\Documents\\GitHub\\EnergyMobile\\Code\\LASRaster',r'Prototype2.gdb\\\\Network\\\\BridgeBuffer')\n",
    "x.save('ClippedLASRaster.tif')\n",
    "arcpy.CopyRaster_management('ClippedLASRaster.tif', createGDB + '\\\\ClippedLAS') "
   ]
  },
  {
   "cell_type": "markdown",
   "metadata": {},
   "source": [
    "## DEM import to dataset & clip to study area\n",
    "Simply pulls the DEM into the geodatabase and masks it to same geometry as clipped roads\n"
   ]
  },
  {
   "cell_type": "code",
   "execution_count": null,
   "metadata": {},
   "outputs": [],
   "source": [
    "# set workspace \n",
    "arcpy.env.workspace = baseURL\n",
    "\n",
    "#bring 30m DEM into the GDB and trim to study area (cannot bring inside feature dataset)\n",
    "arcpy.CopyRaster_management('\\\\digital_terrain_model.gdb\\DTM30CONDPR_A', createGDB + '\\\\DEM')\n",
    "from arcpy.sa import*\n",
    "x = ExtractByMask(r'C:\\\\Users\\Cole\\Documents\\GitHub\\EnergyMobile\\Code\\Prototype2.gdb\\DEM', createNW +'\\Study_Geom_1')\n",
    "x.save(r'C:\\\\Users\\Cole\\Documents\\GitHub\\EnergyMobile\\Code\\Prototype2.gdb\\ClippedDEM')"
   ]
  },
  {
   "cell_type": "markdown",
   "metadata": {},
   "source": [
    "## Use DEM/LIDAR to calculate elevations & slopes \n",
    "Iterative surface information function give roads DEM elevation/slope, then overwrites LIDAR area with LIDAR elevation/slope\n",
    "\n"
   ]
  },
  {
   "cell_type": "code",
   "execution_count": null,
   "metadata": {},
   "outputs": [],
   "source": [
    "#reset workspace\n",
    "arcpy.env.workspace = createNW + \"//RoadClip\"\n",
    "roads = arcpy.env.workspace\n",
    "\n",
    "arcpy.AddSurfaceInformation_3d(roads, createGDB + \"//ClippedDEM\", \"AVG_SLOPE;Z_MAX;Z_MIN\", \"LINEAR\", 0.1, .328)\n",
    "#already in M\n",
    "arcpy.AddSurfaceInformation_3d(roads, createGDB + \"//ClippedLAS\", \"AVG_SLOPE;Z_MAX;Z_MIN\", \"LINEAR\", 0.1 )"
   ]
  },
  {
   "cell_type": "markdown",
   "metadata": {},
   "source": [
    "## Remap slope and distance fields\n",
    "The slope and distance fields need to be standardized so they are taken into account equally by the router."
   ]
  },
  {
   "cell_type": "code",
   "execution_count": null,
   "metadata": {},
   "outputs": [],
   "source": [
    "arcpy.env.workspace = createNW \n",
    "#standardizes slope and distance to the same scale\n",
    "#arcpy.management.AddField('RoadClip2',\"Avg_Slope_MIN_MA\")\n",
    "arcpy.management.StandardizeField(\"RoadClip\", \"Avg_Slope\", \"MIN-MAX\",1,100)\n",
    "arcpy.management.StandardizeField(\"RoadClip\", \"Shape_Length\", \"MIN-MAX\",1,100)"
   ]
  },
  {
   "cell_type": "markdown",
   "metadata": {},
   "source": [
    "## Weight distance and slope\n",
    "Technically this block is unneeded- it is an option to weight the entire network dataset to start with rather than in the network properties. It is set up here to just cut all values in half, having no effect."
   ]
  },
  {
   "cell_type": "code",
   "execution_count": null,
   "metadata": {},
   "outputs": [],
   "source": [
    "#select weighting for equation\n",
    "s_weight = .5\n",
    "d_weight = .5\n",
    "\n",
    "# calculate custom variable fields for slope and distance based on weighting\n",
    "arcpy.CalculateField_management(\"RoadClip\", \"Dist_Cust\",\n",
    "                                \"!Shape_Length_MIN_MAX! * {}\".format(s_weight),\"Python3\",\"\",\"DOUBLE\")\n",
    "\n",
    "arcpy.CalculateField_management(\"RoadClip\", \"Slope_Cust\",\n",
    "                                \"!Avg_Slope_MIN_MAX! * {}\".format(d_weight),\"Python3\",\"\",\"DOUBLE\")"
   ]
  },
  {
   "cell_type": "markdown",
   "metadata": {},
   "source": [
    "## Create a network dataset from clipped roads\n",
    "This block creates the network dataset required for routing from the clipped down road segments layer, then builds it to ensure it is created."
   ]
  },
  {
   "cell_type": "code",
   "execution_count": null,
   "metadata": {},
   "outputs": [],
   "source": [
    "#reset workspace\n",
    "arcpy.env.workspace = createGDB\n",
    "\n",
    "# create a new nework dataset from the RoadCenterline layer (with a few calculated attributes)\n",
    "arcpy.na.CreateNetworkDataset(createNW, \"AllFinal\", [\"RoadClip\"], \"ELEVATION_FIELDS\")\n",
    "\n",
    "#build the network so that it exists\n",
    "#arcpy.na.BuildNetwork(buildNW)"
   ]
  },
  {
   "cell_type": "markdown",
   "metadata": {},
   "source": [
    "## Create base travel mode on network w/ restrictions\n",
    "Initial travel mode creation must be done manually in ArcGIS Pro"
   ]
  },
  {
   "cell_type": "markdown",
   "metadata": {},
   "source": [
    "#### Notes\n",
    "    Must use ARCGIS GUI 1x\n",
    "    Base Mode must be created manually\n",
    "    base form = (distance)(distance factor = 1)+(slope)(slope factor = 1)\n",
    "    must include restrictions by hand too.\n",
    "\n",
    "\n",
    "#### Data Type: File Geodatabase Network Dataset\n",
    "    Database: C:\\Users\\Cole\\Documents\\GitHub\\EnergyMobile\\Code\\Prototype_2.gdb \n",
    "    Feature Dataset: Network \n",
    "    Network: All_ND\n",
    "    Dataset Version: 10.1\n",
    "\n",
    "#### Build Status: Built\n",
    "      The network dataset has been built.\n",
    "      Build Time: Fri Oct 29 13:11:38 2021\n",
    "\n",
    "#### Connectivity: \n",
    "      Policies: \n",
    "        RoadClip2 edges use End Point connectivity policy.\n",
    "        Elevation Model: Elevation Fields\n",
    "\n",
    "#### Travel Mode: Mobility\n",
    "        Uses Costs: \n",
    "        Impedance: Energy\n",
    "        Distance Cost: Length\n",
    "#### Costs: \n",
    "    Cost: Length\n",
    "        Value: [Shape]\n",
    "    Cost: Energy\n",
    "        Value: 1*(!Dist_Cust!) + 1*(!Slope_Cust!)\n",
    "  \n",
    "#### Restrictions:\n",
    "      Value: [ST_PRE_TYP] = \"Interstate\""
   ]
  },
  {
   "cell_type": "markdown",
   "metadata": {},
   "source": [
    "## Gather addresses & preferences, solve, and return route\n",
    "This block creates a layer with the desired start and end route addresses using ArcGIS Geocoding Service outputs translated into UTM coordinates.\n",
    "\n",
    "Second, this block runs the actual router, taking in the newly developed travel mode with its slope/distance parameters alongside the start/end points layer. Assuming success the router will complete and output a poly line path."
   ]
  },
  {
   "cell_type": "code",
   "execution_count": null,
   "metadata": {},
   "outputs": [],
   "source": [
    "print(\"running router.\")\n",
    "# Travel Mode\n",
    "mode = \"Mobility\"\n",
    "\n",
    "# Route Name (always \"R<route>_<D:S ratio>\")\n",
    "name = \"R2_140\"\n",
    "#################################################\n",
    "\n",
    "#reset workspace\n",
    "arcpy.env.workspace = createGDB\n",
    "\n",
    "# Find spatial ref from original RoadCenterline.shp (UTM 15T)\n",
    "spatial_ref = arcpy.Describe(RCLshp).spatialReference\n",
    "\n",
    "# Create a new point feature class using the spatial reference\n",
    "arcpy.CreateFeatureclass_management(createGDB,\"PtsLayer\", \"POINT\", spatial_reference = spatial_ref)\n",
    "\n",
    "arcpy.na.BuildNetwork(buildNW)\n",
    "# This works so long as the UTM zone is 15T!\n",
    "\n",
    "#################################################\n",
    "#ARCGIS Router\n",
    "print('Enter start address in format <address>, <city>, <st. abbreviation> <zip>')\n",
    "startinput = input(\"Enter Start Address in format:'1670 W Peachtree St NE, Atlanta, GA 30309'\")\n",
    "endinput = input(\"Enter End Address in format:'1670 W Peachtree St NE, Atlanta, GA 30309'\")\n",
    "\n",
    "#this calls the Arc geocode server\n",
    "locator_path = \"https://geocode.arcgis.com/arcgis/rest/services/World/GeocodeServer/ArcGIS World Geocoding Service\"\n",
    "locator = arcpy.geocoding.Locator(locator_path)\n",
    "\n",
    "#takes first geocode results, defines them as utm coordinates\n",
    "geocoding_candidates = locator.geocode(startinput, True, maxResults = 1)\n",
    "inside = geocoding_candidates[0]\n",
    "location = (inside[\"Y\"],((inside[\"X\"])))\n",
    "coord = utm.from_latlon(location[0], location[1])\n",
    "print(coord)\n",
    "\n",
    "#takes first geocode results, defines them as utm coordinates\n",
    "geocoding_candidates2 = locator.geocode(endinput, True, maxResults = 1)\n",
    "inside2 = geocoding_candidates2[0]\n",
    "location2 = (inside2[\"Y\"],((inside2[\"X\"])))\n",
    "coord2 = utm.from_latlon(location2[0], location2[1])\n",
    "print(coord2)\n",
    "####################################################\n",
    "\n",
    "# Select the new point feature class\n",
    "feature_class_source = \"PtsLayer\"\n",
    "\n",
    "# Use a cursor to insert the two coordinates\n",
    "cursor = arcpy.da.InsertCursor(feature_class_source,\"SHAPE@XY\")\n",
    "cursor.insertRow([coord])\n",
    "cursor.insertRow([coord2])\n",
    "del cursor\n",
    "\n",
    "###################################################\n",
    "\n",
    "# This ND_layer is only temprorary to allow faster processing, not saved to ROM \n",
    "ND_layer = \"TestRoute\"\n",
    "\n",
    "# Create a network dataset layer (ND_Layer) from the Network for faster processing\n",
    "arcpy.nax.MakeNetworkDatasetLayer(buildNW, ND_layer)\n",
    "\n",
    "# Instantiate a Route solver object\n",
    "route = arcpy.nax.Route(ND_layer)\n",
    "\n",
    "# Set the Travel Mode for this solver\n",
    "nd_travel_modes = arcpy.nax.GetTravelModes(ND_layer)\n",
    "#mode will refer to the selection made earlier\n",
    "travel_mode = nd_travel_modes[mode]\n",
    "\n",
    "#load the Route solver's Travel Mode\n",
    "route.travelMode = travel_mode\n",
    "\n",
    "#reset workspace\n",
    "arcpy.env.workspace = createNW\n",
    "\n",
    "# Load the points layer into the solver\n",
    "route.load(arcpy.nax.RouteInputDataType.Stops, createGDB + '\\\\PtsLayer')\n",
    "\n",
    "#reset workspace\n",
    "arcpy.env.workspace = createGDB\n",
    "\n",
    "# Set output path\n",
    "\n",
    "output = '\\\\' + name \n",
    "output_path = createNW + output\n",
    "\n",
    "# Excecute the route solve\n",
    "result = route.solve()\n",
    "print(\"Done\")\n",
    "    # Check for success\n",
    "if result.solveSucceeded:\n",
    "    result.export(arcpy.nax.RouteOutputDataType.Routes, output_path)\n",
    "    print(\"Solving Complete\")\n",
    "    arcpy.management.Delete(\"TestRoute\")    \n",
    "    #arcpy.management.Delete(createGDB + '\\\\'+\"PtsLayer\")\n",
    "    print(\"stop\")\n",
    "else:\n",
    "    print(\"Solved failed\")\n",
    "    print(result.solverMessages(arcpy.nax.MessageSeverity.All))\n",
    "    arcpy.management.Delete(\"TestRoute\")    \n",
    "    #arcpy.management.Delete(createGDB + '\\\\'+\"PtsLayer\")\n",
    "    print(\"stop\")"
   ]
  },
  {
   "cell_type": "markdown",
   "metadata": {},
   "source": [
    "## Manual Deletes\n",
    "Override deletes if not using cost surface function"
   ]
  },
  {
   "cell_type": "code",
   "execution_count": null,
   "metadata": {},
   "outputs": [],
   "source": [
    "arcpy.management.Delete(\"TestRoute\")\n",
    "arcpy.management.Delete(createGDB + '\\\\'+\"PtsLayer\")"
   ]
  },
  {
   "cell_type": "markdown",
   "metadata": {},
   "source": [
    "## Cost Surface\n",
    "This block takes the information from a specific route solve and creates a concentric service area for energy expenditure"
   ]
  },
  {
   "cell_type": "code",
   "execution_count": null,
   "metadata": {},
   "outputs": [],
   "source": [
    "import arcpy\n",
    "arcpy.CheckOutExtension(\"network\")\n",
    "arcpy.env.workspace = createGDB\n",
    "nds = buildNW\n",
    "nd_layer_name = \"All\"\n",
    "\n",
    "#variable naming\n",
    "input_facilities = createGDB + \"//PtsLayer\"\n",
    "output_polygons = createGDB + \"//OutGonsR1_140\"\n",
    "\n",
    "############################################\n",
    "\n",
    "# Create a network dataset layer and get the desired travel mode for analysis\n",
    "arcpy.nax.MakeNetworkDatasetLayer(nds, nd_layer_name)\n",
    "nd_travel_modes = arcpy.nax.GetTravelModes(nd_layer_name)\n",
    "travel_mode = nd_travel_modes[\"Mobility\"]\n",
    "\n",
    "# Instantiate a ServiceArea solver object\n",
    "service_area = arcpy.nax.ServiceArea(nd_layer_name)\n",
    "\n",
    "# Set properties\n",
    "service_area.timeUnits = arcpy.nax.TimeUnits.Minutes\n",
    "service_area.defaultImpedanceCutoffs = [100, 200, 300, 500, 1000, 2000, 3000, 5000]\n",
    "service_area.travelMode = travel_mode\n",
    "service_area.outputType = arcpy.nax.ServiceAreaOutputType.Polygons\n",
    "service_area.geometryAtOverlap = arcpy.nax.ServiceAreaOverlapGeometry.Dissolve\n",
    "# Load inputs\n",
    "\n",
    "service_area.load(arcpy.nax.ServiceAreaInputDataType.Facilities, input_facilities)\n",
    "# Solve the analysis\n",
    "\n",
    "result = service_area.solve()\n",
    "\n",
    "# Export the results to a feature class\n",
    "if result.solveSucceeded:\n",
    "    result.export(arcpy.nax.ServiceAreaOutputDataType.Polygons, output_polygons)\n",
    "else:\n",
    "    print(\"Solve failed\")\n",
    "    print(result.solverMessages(arcpy.nax.MessageSeverity.All))\n",
    "arcpy.management.Delete(nd_layer_name)"
   ]
  },
  {
   "cell_type": "markdown",
   "metadata": {},
   "source": [
    "again, manual deletes"
   ]
  },
  {
   "cell_type": "code",
   "execution_count": null,
   "metadata": {},
   "outputs": [],
   "source": [
    "#additional seperate deletes\n",
    "arcpy.management.Delete(nd_layer_name)\n",
    "arcpy.management.Delete(\"TestRoute\")\n",
    "arcpy.management.Delete(createGDB + '\\\\'+\"PtsLayer\")"
   ]
  }
 ],
 "metadata": {
  "kernelspec": {
   "display_name": "Python 3",
   "language": "python",
   "name": "python3"
  },
  "language_info": {
   "codemirror_mode": {
    "name": "ipython",
    "version": 3
   },
   "file_extension": ".py",
   "mimetype": "text/x-python",
   "name": "python",
   "nbconvert_exporter": "python",
   "pygments_lexer": "ipython3",
   "version": "3.7.9"
  }
 },
 "nbformat": 4,
 "nbformat_minor": 4
}
